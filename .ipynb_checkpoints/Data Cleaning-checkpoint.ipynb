{
 "cells": [
  {
   "cell_type": "code",
   "execution_count": 13,
   "id": "bc5e7da3",
   "metadata": {},
   "outputs": [],
   "source": [
    "#1. Code to change headers\n",
    "\n",
    "import csv\n",
    "\n",
    "header = ['Title', 'Price', 'Year', 'Engine', 'Miles', 'DayPosted']\n",
    "\n",
    "input_file = '/Users/mac/Desktop/DoneDeal WebScraping/DoneDealCars.csv'  \n",
    "output_file = '/Users/mac/Desktop/DoneDeal WebScraping/DoneDealCars.csv'\n",
    "\n",
    "with open(input_file, 'r') as file:\n",
    "    reader = csv.reader(file)\n",
    "    rows = list(reader)\n",
    "\n",
    "rows.insert(0, header)\n",
    "\n",
    "with open(output_file, 'w', newline='') as file:\n",
    "    writer = csv.writer(file)\n",
    "    writer.writerows(rows)\n",
    "\n"
   ]
  },
  {
   "cell_type": "code",
   "execution_count": 14,
   "id": "bfb86d60",
   "metadata": {},
   "outputs": [],
   "source": [
    "#2. Code to make year column as integer\n",
    "\n",
    "import pandas as pd\n",
    "import numpy as np\n",
    "\n",
    "input_file = '/Users/mac/Desktop/DoneDeal WebScraping/DoneDealCars.csv'  \n",
    "output_file = '/Users/mac/Desktop/DoneDeal WebScraping/DoneDealCars.csv'\n",
    "\n",
    "df = pd.read_csv(input_file)\n",
    "\n",
    "df['Year'] = df['Year'].replace([np.inf, -np.inf, np.nan], 0)\n",
    "\n",
    "df['Year'] = df['Year'].astype(int)\n",
    "\n",
    "df.to_csv(output_file, index=False)\n",
    "\n"
   ]
  },
  {
   "cell_type": "code",
   "execution_count": 15,
   "id": "1011b4e8",
   "metadata": {},
   "outputs": [
    {
     "name": "stdout",
     "output_type": "stream",
     "text": [
      "New column 'Car Brand' has been added to the CSV file.\n"
     ]
    }
   ],
   "source": [
    "#3.Code to add new column ' Brandname' based on title col\n",
    "\n",
    "#Code to filter excel file for car brands\n",
    "\n",
    "import pandas as pd\n",
    "import re\n",
    "\n",
    "df = pd.read_csv('/Users/mac/Desktop/DoneDeal WebScraping/DoneDealCars.csv')\n",
    "\n",
    "# Define a predefined list of car brands\n",
    "car_brands = [\n",
    "    \"Abarth\", \"Acura\", \"Alfa Romeo\", \"Alpine\", \"Aston Martin\", \"Audi\", \"Bentley\", \"BMW\", \"Bugatti\",\n",
    "    \"Buick\", \"Cadillac\", \"Chevrolet\", \"Chrysler\", \"Citroën\", \"Cupra\", \"Dacia\", \"Daihatsu\", \"Dodge\",\n",
    "    \"DS Automobiles\", \"Ferrari\", \"Fiat\", \"Ford\", \"Genesis\", \"GMC\", \"Honda\", \"Hummer\", \"Hyundai\",\n",
    "    \"Infiniti\", \"Isuzu\", \"Iveco\", \"Jaguar\", \"Jeep\", \"Kia\", \"Koenigsegg\", \"Lamborghini\", \"Lancia\",\n",
    "    \"Land Rover\", \"Lexus\", \"Lincoln\", \"Lotus\", \"Lucid Motors\", \"Mahindra\", \"Maserati\", \"Maybach\",\n",
    "    \"Mazda\", \"McLaren\", \"Mercedes-Benz\", \"MG\", \"Mini\", \"Mitsubishi\", \"Morgan\", \"Nissan\", \"Opel\",\n",
    "    \"Pagani\", \"Peugeot\", \"Polestar\", \"Porsche\", \"RAM\", \"Renault\", \"Rivian\", \"Rolls-Royce\", \"Saab\",\n",
    "    \"SEAT\", \"Skoda\", \"Smart\", \"SsangYong\", \"Subaru\", \"Suzuki\", \"Tata Motors\", \"Tesla\", \"Toyota\",\n",
    "    \"Vauxhall\", \"Volkswagen\", \"Volvo\", \"Wiesmann\", \"Mercedes\", \"VW\", \"Citroen\", \"Range Rover\"\n",
    "]\n",
    "\n",
    "def extract_car_brand(title):\n",
    "    title = title.lower()  # Convert title to lowercase for case-insensitive comparison\n",
    "    \n",
    "    for brand in car_brands:\n",
    "        brand_lower = brand.lower()\n",
    "        \n",
    "        if brand_lower in title:\n",
    "            return brand\n",
    "\n",
    "        # Handle variations and spelling mistakes in car brand names\n",
    "        brand_parts = re.findall(r'\\b\\w+\\b', brand_lower)\n",
    "        for part in brand_parts:\n",
    "            if part in title:\n",
    "                return brand\n",
    "    \n",
    "    return 'Other'  # If no car brand found in the title, assign 'Other'\n",
    "\n",
    "df['CarBrand'] = df['Title'].apply(extract_car_brand)\n",
    "\n",
    "df.to_csv('/Users/mac/Desktop/DoneDeal WebScraping/DoneDealCars.csv', index=False)\n",
    "\n",
    "print(\"New column 'Car Brand' has been added to the CSV file.\")\n",
    "\n",
    "\n"
   ]
  },
  {
   "cell_type": "code",
   "execution_count": 18,
   "id": "4d2f7cd6",
   "metadata": {},
   "outputs": [],
   "source": [
    "#4. Code to remove symbols from Price column- and considering 1Eur=1Pound\n",
    "\n",
    "\n",
    "import pandas as pd\n",
    "\n",
    "df = pd.read_csv('/Users/mac/Desktop/DoneDeal WebScraping/DoneDealCars.csv')\n",
    "\n",
    "df['Price'] = df['Price'].str.replace('[€£]', '', regex=True)\n",
    "\n",
    "df.to_csv('/Users/mac/Desktop/DoneDeal WebScraping/DoneDealCars.csv', index=False)\n",
    "\n",
    "\n"
   ]
  },
  {
   "cell_type": "code",
   "execution_count": 28,
   "id": "fddbf086",
   "metadata": {},
   "outputs": [],
   "source": [
    "# 5. Code to remove rows from Miles column that doesnt contain mi or km keyword\n",
    "\n",
    "import pandas as pd\n",
    "\n",
    "df = pd.read_csv('/Users/mac/Desktop/DoneDeal WebScraping/DoneDealCars.csv')\n",
    "\n",
    "df['Miles'].fillna('', inplace=True)\n",
    "\n",
    "df = df[df['Miles'].str.contains('mi|km')]\n",
    "\n",
    "df.to_csv('/Users/mac/Desktop/DoneDeal WebScraping/DoneDealCars.csv', index=False)\n",
    "\n"
   ]
  },
  {
   "cell_type": "code",
   "execution_count": null,
   "id": "ef7c4d85",
   "metadata": {},
   "outputs": [],
   "source": [
    "#6. Code to keep kms rows and change the miles to kms and then remove off the km or mi keywords\n",
    "\n",
    "import pandas as pd\n",
    "\n",
    "df = pd.read_csv('/Users/mac/Desktop/DoneDeal WebScraping/DoneDealCars.csv')\n",
    "\n",
    "def convert_miles_to_km(row):\n",
    "    value, unit = row.split()\n",
    "    if unit == 'mi':\n",
    "        value = value.replace(',', '')  # Remove commas from the value\n",
    "        km_value = float(value) * 1.60934\n",
    "        km_value_rounded = round(km_value, 2)  #Round the value to 2 decimal places\n",
    "        return f'{km_value_rounded:.2f} km'\n",
    "    else:\n",
    "        return row\n",
    "\n",
    "df['Miles'] = df['Miles'].apply(convert_miles_to_km)\n",
    "\n",
    "df['Miles'] = df['Miles'].str.replace('mi', '').str.replace('km', '')\n",
    "\n",
    "df.to_csv('/Users/mac/Desktop/DoneDeal WebScraping/DoneDealCars.csv', index=False)\n"
   ]
  },
  {
   "cell_type": "code",
   "execution_count": 43,
   "id": "b7ce62f8",
   "metadata": {},
   "outputs": [],
   "source": [
    "#7. Code to remove any commas from price and miles columns\n",
    "\n",
    "import pandas as pd\n",
    "\n",
    "df = pd.read_csv('/Users/mac/Desktop/DoneDeal WebScraping/DoneDealCars.csv')\n",
    "\n",
    "df['Price'] = df['Price'].str.replace(',', '')\n",
    "df['Miles'] = df['Miles'].str.replace(',', '')\n",
    "\n",
    "df.to_csv('/Users/mac/Desktop/DoneDeal WebScraping/DoneDealCars.csv', index=False)\n"
   ]
  },
  {
   "cell_type": "code",
   "execution_count": 47,
   "id": "8cf91680",
   "metadata": {},
   "outputs": [],
   "source": [
    "# 8. Code to remove keyword 'No price' from \"Price' Column ; case insensitive\n",
    "\n",
    "import pandas as pd\n",
    "\n",
    "df = pd.read_csv('/Users/mac/Desktop/DoneDeal WebScraping/DoneDealCars.csv')\n",
    "\n",
    "# Remove 'No price' from 'Price' column (case insensitive)\n",
    "df['Price'] = df['Price'].str.replace('No price', '0', case=False)\n",
    "\n",
    "df.to_csv('/Users/mac/Desktop/DoneDeal WebScraping/DoneDealCars.csv', index=False)\n",
    "\n"
   ]
  },
  {
   "cell_type": "code",
   "execution_count": null,
   "id": "a4874fe3",
   "metadata": {},
   "outputs": [],
   "source": []
  }
 ],
 "metadata": {
  "kernelspec": {
   "display_name": "Python 3 (ipykernel)",
   "language": "python",
   "name": "python3"
  },
  "language_info": {
   "codemirror_mode": {
    "name": "ipython",
    "version": 3
   },
   "file_extension": ".py",
   "mimetype": "text/x-python",
   "name": "python",
   "nbconvert_exporter": "python",
   "pygments_lexer": "ipython3",
   "version": "3.10.9"
  }
 },
 "nbformat": 4,
 "nbformat_minor": 5
}
