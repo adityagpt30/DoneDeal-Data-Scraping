{
 "cells": [
  {
   "cell_type": "code",
   "execution_count": 3,
   "id": "f75b6479",
   "metadata": {},
   "outputs": [
    {
     "name": "stdout",
     "output_type": "stream",
     "text": [
      "Mean Squared Error (MSE): 9661990252.44\n",
      "R-squared (R2): 0.24\n",
      "Predicted Mileage for the new car: 144514.73\n"
     ]
    }
   ],
   "source": [
    
    "import pandas as pd\n",
    "from sklearn.model_selection import train_test_split\n",
    "from sklearn.linear_model import LinearRegression\n",
    "from sklearn.compose import ColumnTransformer\n",
    "from sklearn.preprocessing import OneHotEncoder\n",
    "from sklearn.metrics import mean_squared_error, r2_score\n",
    "\n",
    "data = pd.read_csv('/Users/mac/Desktop/DoneDeal WebScraping/DoneDealCars.csv')\n",
    "\n",
    "data['Miles'] = pd.to_numeric(data['Miles'], errors='coerce')\n",
    "data.dropna(subset=['Miles'], inplace=True)\n",
    "\n",
    "#Split the data into features (X) and target variable (y)\n",
    "X = data[['Price', 'Year', 'Engine']]\n",
    "y = data['Miles']\n",
    "\n",
    "#Split the data into training and testing sets\n",
    "X_train, X_test, y_train, y_test = train_test_split(X, y, test_size=0.2, random_state=42)\n",
    "\n",
    "# Preprocess the 'Engine' column using one-hot encoding\n",
    "# Combine the training and testing data to ensure all categories are present\n",
    "combined_data = pd.concat([X_train, X_test], axis=0)\n",
    "\n",
    "# Create a ColumnTransformer to apply one-hot encoding to the 'Engine' column\n",
    "ct = ColumnTransformer(\n",
    "    transformers=[('encoder', OneHotEncoder(), ['Engine'])],\n",
    "    remainder='passthrough'\n",
    ")\n",
    "\n",
    "# Apply the ColumnTransformer to the combined data\n",
    "combined_data_encoded = ct.fit_transform(combined_data)\n",
    "\n",
    "# Split the encoded data back into training and testing sets\n",
    "X_train_encoded = combined_data_encoded[:len(X_train)]\n",
    "X_test_encoded = combined_data_encoded[len(X_train):]\n",
    "\n",
    "# Build the regression model (Linear Regression in this case)\n",
    "model = LinearRegression()\n",
    "model.fit(X_train_encoded, y_train)\n",
    "\n",
    "# Make predictions using the trained model\n",
    "y_pred = model.predict(X_test_encoded)\n",
    "\n",
    "# Evaluate the model's performance\n",
    "mse = mean_squared_error(y_test, y_pred)\n",
    "r2 = r2_score(y_test, y_pred)\n",
    "\n",
    "print(f'Mean Squared Error (MSE): {mse:.2f}')\n",
    "print(f'R-squared (R2): {r2:.2f}')\n",
    "\n",
    "# SAMPLE - Make mileage predictions for new car data\n",
    "new_car_data = pd.DataFrame({\n",
    "    'Price': [25000],\n",
    "    'Year': [2020],\n",
    "    'Engine': ['2.0 Diesel']\n",
    "})\n",
    "\n",
    "new_car_data_encoded = ct.transform(new_car_data)\n",
    "predicted_mileage = model.predict(new_car_data_encoded)\n",
    "\n",
    "print(f'Predicted Mileage for the new car: {predicted_mileage[0]:.2f}')\n"
   ]
  },
  {
   "cell_type": "code",
   "execution_count": null,
   "id": "7b686495",
   "metadata": {},
   "outputs": [],
   "source": []
  }
 ],
 "metadata": {
  "kernelspec": {
   "display_name": "Python 3 (ipykernel)",
   "language": "python",
   "name": "python3"
  },
  "language_info": {
   "codemirror_mode": {
    "name": "ipython",
    "version": 3
   },
   "file_extension": ".py",
   "mimetype": "text/x-python",
   "name": "python",
   "nbconvert_exporter": "python",
   "pygments_lexer": "ipython3",
   "version": "3.10.9"
  }
 },
 "nbformat": 4,
 "nbformat_minor": 5
}
